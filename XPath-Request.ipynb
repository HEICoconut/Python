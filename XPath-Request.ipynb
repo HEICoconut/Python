{
 "cells": [
  {
   "cell_type": "code",
   "execution_count": 32,
   "metadata": {},
   "outputs": [
    {
     "name": "stdout",
     "output_type": "stream",
     "text": [
      "[<Element div at 0x21bbbf22f88>]\n"
     ]
    }
   ],
   "source": [
    "from lxml import etree\n",
    "import requests\n",
    "\n",
    "html = requests.get('http://jandan.net/ooxx/page-44').content.decode('utf-8')\n",
    "##获取网页代码\n",
    "\n",
    "doc_tree = etree.HTML(html)\n",
    "\n",
    "###XPath匹配\n",
    "content = doc_tree.xpath(\"//div[@class='ranking-box-wrapper']//div[@class='panel-content']\")\n",
    "\n",
    "print(content)"
   ]
  },
  {
   "cell_type": "code",
   "execution_count": 35,
   "metadata": {},
   "outputs": [
    {
     "name": "stdout",
     "output_type": "stream",
     "text": [
      "[<Element li at 0x21bbd239b88>, <Element li at 0x21bbd239908>, <Element li at 0x21bbd1287c8>, <Element li at 0x21bbd4502c8>, <Element li at 0x21bbd450108>, <Element li at 0x21bbd450248>, <Element li at 0x21bbd450148>, <Element li at 0x21bbd4500c8>, <Element li at 0x21bbd450288>, <Element li at 0x21bbd450048>, <Element li at 0x21bbd450308>, <Element li at 0x21bbd450348>, <Element li at 0x21bbd450388>, <Element li at 0x21bbd4503c8>, <Element li at 0x21bbd450408>, <Element li at 0x21bbd450448>, <Element li at 0x21bbd450488>, <Element li at 0x21bbd4504c8>, <Element li at 0x21bbd450508>, <Element li at 0x21bbd450548>, <Element li at 0x21bbd450588>]\n",
      " 首款5G手机和5G套餐都出来了，价格实在感人…… \n",
      " 任正非：在华为，真正的人才都来自于“歪瓜裂枣”！ \n",
      " 百度女程序员半夜打车被司机嘲讽:加班到一点,收入不如我,图啥 \n",
      " 补贴没了，估值80亿的知豆电动车也倒了 \n",
      " 领导在大厂挖过来的程序员月薪4W，结果连新人都不如~ \n",
      " 移动降价了？9元月租送20G流量？用户：套路 \n",
      " 如果黄章当时没有拒绝雷军建议，魅族的历史是否会改写？ \n",
      " 再次被\"捅\"的马蜂窝，中国旅游出行产业到底有多乱？ \n",
      " 创始人玩失踪、领导不管事、员工不打卡，却连续 5 年营收翻一番 \n",
      " 太卡了！微信占满手机内存？教你一招，就能释放大量内存 \n",
      " 又一个芯片巨头凉凉, 我国出价1500亿不肯卖, 却卖给美国 \n",
      " 你的身份证绑定了几个微信号？注意了！ \n",
      " 为什么现在的智能机，不再选用金属外壳？ \n",
      " 车停在路边被撞，又找不到肇事者，应该先报警还是先报保险？ \n",
      " 手机上的NFC到底有什么用？这6大功能最实用，不会用手机白买 \n",
      " 电是如何被发现，并利用的？ \n",
      " 为什么2G升3G升4G都没什么事，这次升5G闹得这么大动静？ \n",
      " 非洲人民原来钟爱中国手机！国内市场难觅踪迹，在非洲成了香饽饽 \n",
      " 售价100万元，堪称史上最贵QQ，网友：我的QQ无法用金钱衡量。 \n",
      " 目前主流的混合动力汽车：丰田、本田、日产、比亚迪哪家技术强？ \n"
     ]
    }
   ],
   "source": [
    "from selenium import webdriver\n",
    "from lxml import etree\n",
    "from pyquery import PyQuery as pq\n",
    "import time\n",
    "\n",
    "driver = webdriver.Chrome(executable_path=\"C:\\Program Files (x86)\\Google\\Chrome\\Application\\chromedriver\")\n",
    "driver.maximize_window()\n",
    "driver.get('https://www.toutiao.com/')\n",
    "driver.implicitly_wait(10)\n",
    "driver.find_element_by_link_text('科技').click()\n",
    "driver.implicitly_wait(10)\n",
    "for x in range(3):\n",
    "    js = \"var q=document.documentElement.scrollTop=\"+str(x*500)\n",
    "    driver.execute_script(js)\n",
    "    time.sleep(2)\n",
    "\n",
    "time.sleep(5)\n",
    "page = driver.page_source\n",
    "doc = pq(page)\n",
    "doc = etree.HTML(str(doc))\n",
    "contents = doc.xpath('//div[@class=\"wcommonFeed\"]/ul/li')\n",
    "print(contents)\n",
    "for x in contents:\n",
    "    title = x.xpath('div/div[1]/div/div[1]/a/text()')\n",
    "    if title:\n",
    "        title = title[0]\n",
    "        with open('toutiao.txt', 'a+', encoding='utf8')as f:\n",
    "            f.write(title+'\\n')\n",
    "        print(title)\n",
    "    else:\n",
    "        pass"
   ]
  },
  {
   "cell_type": "code",
   "execution_count": null,
   "metadata": {},
   "outputs": [],
   "source": []
  }
 ],
 "metadata": {
  "kernelspec": {
   "display_name": "Python 3",
   "language": "python",
   "name": "python3"
  },
  "language_info": {
   "codemirror_mode": {
    "name": "ipython",
    "version": 3
   },
   "file_extension": ".py",
   "mimetype": "text/x-python",
   "name": "python",
   "nbconvert_exporter": "python",
   "pygments_lexer": "ipython3",
   "version": "3.7.1"
  }
 },
 "nbformat": 4,
 "nbformat_minor": 2
}
