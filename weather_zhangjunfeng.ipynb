{
 "cells": [
  {
   "cell_type": "markdown",
   "metadata": {},
   "source": [
    "# 天气预报查询小程序"
   ]
  },
  {
   "cell_type": "code",
   "execution_count": 8,
   "metadata": {},
   "outputs": [],
   "source": [
    "#-*-coding:utf-8-*-\n",
    "import json\n",
    "import requests\n",
    "import urllib"
   ]
  },
  {
   "cell_type": "code",
   "execution_count": 70,
   "metadata": {},
   "outputs": [
    {
     "name": "stdout",
     "output_type": "stream",
     "text": [
      "请输入你想要查询天气的城市哦：大连\n",
      "今天是2019年05月06日星期一，天气是晴的，温度是13℃~19℃，风力西南风5-6级\n",
      "还可以查接下来6天以内的天气呢\n",
      "请输入你想查询的日期啊，麻烦按 20190506 这样的格式输入：20190511\n",
      "您要查询的是2019年05月11日星期六，天气是晴的，温度是15℃~23℃，风力西南风5-6级\n"
     ]
    }
   ],
   "source": [
    "# 访问 api ，拿到对应城市的 json 天气数据\n",
    "city = str(input(\"请输入你想要查询天气的城市哦：\"))\n",
    "dict = {'cityname':city}\n",
    "url = 'http://v.juhe.cn/weather/index?format=2&'+str(urllib.parse.urlencode(dict))+'&key=b5c59e594bb86bc806691c7293e7db08'\n",
    "r = requests.get(url)\n",
    "# 将 json 数据处理成字典\n",
    "results = json.loads(r.text)\n",
    "result = results['result']\n",
    "future = result['future']\n",
    "# 默认输出的预报天气为今天的\n",
    "print(\"今天是\"+future[0]['date'][0:4]+\"年\"+future[0]['date'][4:6]+\"月\"+future[0]['date'][6:8]+\"日\"+future[0]['week']+\"，天气是\"+future[0]['weather']+\"的，温度是\"+future[0]['temperature']+\"，风力\"+future[0]['wind'])\n",
    "# 表明更多功能 诱导填入日期信息\n",
    "print(\"还可以查接下来6天以内的天气呢\")\n",
    "date = str(input(\"请输入你想查询的日期啊，麻烦按 \"+future[0]['date']+\" 这样的格式输入：\"))\n",
    "for i in range(0,7):\n",
    "    if future[i]['date'] == date:\n",
    "        print(\"您要查询的是\"+future[i]['date'][0:4]+\"年\"+future[i]['date'][4:6]+\"月\"+future[i]['date'][6:8]+\"日\"+future[i]['week']+\"，天气是\"+future[i]['weather']+\"的，温度是\"+future[i]['temperature']+\"，风力\"+future[i]['wind'])"
   ]
  }
 ],
 "metadata": {
  "kernelspec": {
   "display_name": "Python 3",
   "language": "python",
   "name": "python3"
  },
  "language_info": {
   "codemirror_mode": {
    "name": "ipython",
    "version": 3
   },
   "file_extension": ".py",
   "mimetype": "text/x-python",
   "name": "python",
   "nbconvert_exporter": "python",
   "pygments_lexer": "ipython3",
   "version": "3.7.1"
  }
 },
 "nbformat": 4,
 "nbformat_minor": 2
}
